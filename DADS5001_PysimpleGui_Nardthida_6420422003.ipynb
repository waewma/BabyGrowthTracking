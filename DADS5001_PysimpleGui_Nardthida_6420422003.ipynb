{
 "cells": [
  {
   "cell_type": "code",
   "execution_count": 1,
   "metadata": {
    "scrolled": true
   },
   "outputs": [
    {
     "name": "stderr",
     "output_type": "stream",
     "text": [
      "2022-11-30 14:40:17.193 python[1208:49235] TSM AdjustCapsLockLEDForKeyTransitionHandling - _ISSetPhysicalKeyboardCapsLockLED Inhibit\n"
     ]
    },
    {
     "name": "stdout",
     "output_type": "stream",
     "text": [
      "{'Name': 'Wayo', 'Birthday': '29-12-2020', 'Select': '', 'Measure Date': '30-11-2021', 'Select0': '', 'Weight': '5', 'Height': '55', 'myTable': [], '-CANVAS-': None}\n",
      "{'Name': 'Wayo', 'Birthday': '29-12-2020', 'Select': '', 'Measure Date': '29-11-2022', 'Select0': '', 'Weight': '8', 'Height': '88', 'myTable': [], '-CANVAS-': None}\n",
      "{'Name': 'Wayo', 'Birthday': '29-12-2020', 'Select': '', 'Measure Date': '30-11-2022', 'Select0': '', 'Weight': '8', 'Height': '78', 'myTable': [], '-CANVAS-': None}\n",
      "{'Name': 'Wayo', 'Birthday': '29-12-2020', 'Select': '', 'Measure Date': '', 'Select0': '', 'Weight': '', 'Height': '', 'myTable': [1], '-CANVAS-': None}\n",
      "{'Name': 'wayo', 'Birthday': '29-12-2020', 'Select': '', 'Measure Date': '13-09-2022', 'Select0': '', 'Weight': '5', 'Height': '67', 'myTable': [1], '-CANVAS-': None}\n",
      "{'Name': '', 'Birthday': '', 'Select': '', 'Measure Date': '', 'Select0': '', 'Weight': '', 'Height': '', 'myTable': [1], '-CANVAS-': None}\n",
      "{'Name': '', 'Birthday': '', 'Select': '', 'Measure Date': '', 'Select0': '', 'Weight': '', 'Height': '', 'myTable': [1], '-CANVAS-': None}\n"
     ]
    },
    {
     "data": {
      "image/png": "[encoded data removed]",
      "text/plain": [
       "<Figure size 422x250 with 1 Axes>"
      ]
     },
     "metadata": {
      "needs_background": "light"
     },
     "output_type": "display_data"
    }
   ],
   "source": [
    "import json\n",
    "import PySimpleGUI as sg\n",
    "from datetime import datetime\n",
    "import matplotlib.pyplot as plt\n",
    "from matplotlib.backends.backend_tkagg import FigureCanvasTkAgg\n",
    "td=[]\n",
    "Headings=['Name','Birthday','Measure Date','Weight','Height','Age(year)']\n",
    "\n",
    "layout=[[sg.Text(Headings[0], size=(10,1)),sg.Input(key=Headings[0])],\n",
    "        [sg.Text(Headings[1], size=(10,1)),sg.Input(key=Headings[1]),\n",
    "         sg.CalendarButton('Select', close_when_date_chosen=True,\n",
    "                           target=Headings[1], format= \"%d-%m-%Y\", \n",
    "                           no_titlebar=False)],\n",
    "        [sg.Text(Headings[2], size=(10,1)),sg.Input(key=Headings[2]),\n",
    "         sg.CalendarButton('Select', close_when_date_chosen=True,\n",
    "                           target=Headings[2], format= \"%d-%m-%Y\", \n",
    "                           no_titlebar=False)],\n",
    "        [sg.Text(Headings[3], size=(10,1)), sg.Input(key=Headings[3])],\n",
    "        [sg.Text(Headings[4], size=(10,1)), sg.Input(key=Headings[4])], \n",
    "        [sg.Button('Add Row'),sg.Button('Edit Row'),\n",
    "            sg.Button('Save Edit', disabled=True),sg.Button('Delete Row'),sg.Exit()],\n",
    "        [sg.Table(td,Headings,key='myTable')],\n",
    "        [sg.Canvas(size=(250,250), key='-CANVAS-')]\n",
    "       ]\n",
    "\n",
    "window=sg.Window('Baby Growth Tracking',layout, finalize=True)\n",
    "\n",
    "def cal_age(birth,test_date):\n",
    "    d1 = datetime.strptime(birth, \"%d-%m-%Y\")\n",
    "    d2 = datetime.strptime(test_date, \"%d-%m-%Y\")\n",
    "    age = d2-d1\n",
    "    age = age.days\n",
    "    age = age/365\n",
    "    return age\n",
    "\n",
    "def update_plot(td):\n",
    "    axes=fig.axes\n",
    "    plt.cla()\n",
    "    g_weight=[]\n",
    "    g_height=[]\n",
    "    for i in range(len(td)):\n",
    "        g_weight.append(td[i][3])\n",
    "        g_height.append(td[i][4])\n",
    "    axes[0].plot(g_weight,g_height,'b-', marker='o')\n",
    "    plt.title('Weight(kg) vs Height(cm)')\n",
    "    plt.xlabel('weight(kg)')\n",
    "    plt.ylabel('height(cm)')\n",
    "    figure_canvas_agg.draw()\n",
    "    figure_canvas_agg.get_tk_widget().pack(side='top',fill='both',expand=1)\n",
    "    \n",
    "fig=plt.figure(figsize=(25,25))\n",
    "#fig.add_subplot(111).plot([],[])\n",
    "plt.title('Weight(kg) vs Height(cm)')\n",
    "plt.xlabel('weight(kg)')\n",
    "plt.ylabel('height(cm)')\n",
    "figure_canvas_agg=FigureCanvasTkAgg(fig, window['-CANVAS-'].TKCanvas)\n",
    "figure_canvas_agg.draw()\n",
    "figure_canvas_agg.get_tk_widget().pack(side='top',fill='both',expand=1)\n",
    "\n",
    "while True:\n",
    "    event,values= window.read()\n",
    "    print(values)\n",
    "    if event == 'Add Row':\n",
    "        try:\n",
    "            values[Headings[0]]=values[Headings[0]].lower()\n",
    "            values[Headings[3]]=float(values[Headings[3]])\n",
    "            values[Headings[4]]=float(values[Headings[4]])\n",
    "            values[Headings[5]]=float('%.2f'%cal_age(values[Headings[1]],values[Headings[2]]))\n",
    "        except:\n",
    "            sg.Popup('Pleaes put information as format', keep_on_top=True)\n",
    "        finally:\n",
    "            td.append([values[Headings[0]],values[Headings[1]],values[Headings[2]],values[Headings[3]],values[Headings[4]],values[Headings[5]]])\n",
    "            td.sort(key=lambda x: x[5])\n",
    "            window['myTable'].update(values=td)\n",
    "            for i in range(2,5):    # Loop thru to clear boxes\n",
    "                window[Headings[i]].update(value='')\n",
    "\n",
    "    if event == 'Edit Row':\n",
    "        if values['myTable']==[]:\n",
    "            sg.popup('No Row Selected')\n",
    "        else:\n",
    "            editRow=values['myTable'][0]\n",
    "            sg.popup('Edit Selected Row')\n",
    "            td[editRow][5]=0\n",
    "            for i in range(5):  \n",
    "                window[Headings[i]].update(value=td[editRow][i])\n",
    "            window['Save Edit'].update(disabled=False)\n",
    "    if event == 'Save Edit':\n",
    "        try:\n",
    "            new_age=cal_age(values[Headings[1]],values[Headings[2]])\n",
    "            td[editRow]=[values[Headings[0]],values[Headings[1]],values[Headings[2]],float(values[Headings[3]]),float(values[Headings[4]]),float('%.2f'%new_age)]\n",
    "        except:\n",
    "            sg.Popup('Pleaes put information as format', keep_on_top=True)\n",
    "        finally:\n",
    "            td.sort(key=lambda x: x[5])\n",
    "            window['myTable'].update(values=td)\n",
    "            for i in range(5):    # Loop thru to clear boxes\n",
    "                window[Headings[i]].update(value='')\n",
    "            window['Save Edit'].update(disabled=True)\n",
    "\n",
    "    if event == 'Delete Row':\n",
    "        if values['myTable']==[]:\n",
    "            sg.popup('No Row Selected')\n",
    "        else:\n",
    "            if sg.popup_ok_cancel('Can not undo Delete: Continue?') == 'OK':\n",
    "                del td[values['myTable'][0]]    # Removes the selected row\n",
    "                window['myTable'].update(values=td)\n",
    "    \n",
    "    update_plot(td)\n",
    "    \n",
    "    if event in (sg.WIN_CLOSED, 'Exit'):\n",
    "        save_td=[]\n",
    "        for i in range(len(td)):\n",
    "            td_d = dict(zip(Headings,td[i]))\n",
    "            save_td.append(td_d)\n",
    "        with open(\"Baby_growth_tracking.json\",'w') as f:\n",
    "            json.dump(save_td,f)\n",
    "        break\n",
    "\n",
    "f.close()  \n",
    "window.close()"
   ]
  },
  {
   "cell_type": "code",
   "execution_count": null,
   "metadata": {},
   "outputs": [],
   "source": []
  },
  {
   "cell_type": "code",
   "execution_count": null,
   "metadata": {},
   "outputs": [],
   "source": []
  }
 ],
 "metadata": {
  "kernelspec": {
   "display_name": "Python 3 (ipykernel)",
   "language": "python",
   "name": "python3"
  },
  "language_info": {
   "codemirror_mode": {
    "name": "ipython",
    "version": 3
   },
   "file_extension": ".py",
   "mimetype": "text/x-python",
   "name": "python",
   "nbconvert_exporter": "python",
   "pygments_lexer": "ipython3",
   "version": "3.9.5"
  }
 },
 "nbformat": 4,
 "nbformat_minor": 4
}
